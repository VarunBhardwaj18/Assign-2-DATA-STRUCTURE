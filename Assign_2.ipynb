{
  "cells": [
    {
      "cell_type": "code",
      "execution_count": null,
      "id": "1c6ac937-9f56-4550-af2c-59234bd7e915",
      "metadata": {
        "id": "1c6ac937-9f56-4550-af2c-59234bd7e915",
        "outputId": "946a4c93-e420-4d7c-cce2-b1099a5fc612"
      },
      "outputs": [
        {
          "data": {
            "text/plain": [
              "' - Lists: retrieve by index (position), O(1) time\\n\\n- Dictionaries: retrieve by key, O(1) time on average\\n\\n- List indices are integers starting at 0, dictionary keys can be any immutable type'"
            ]
          },
          "execution_count": 3,
          "metadata": {},
          "output_type": "execute_result"
        }
      ],
      "source": [
        "#theory questions\n",
        "# 1 What are data structures, and why are they important?\n",
        "\"\"\"Data structures are specialized formats for organizing, processing, retrieving and storing data.\n",
        "They are important because they enable efficient data management, optimize memory usage, and allow for faster data access and manipulation in programs\"\"\"\n",
        "\n",
        "#2 Explain the difference between mutable and immutable data types with examples.\n",
        "\n",
        "\"\"\"Mutable data types can be changed after creation (e.g., lists, dictionaries, sets),\n",
        "while immutable types cannot be modified after creation (e.g., integers, strings, tuples).\n",
        "Example: You can append to a list ([1,2].append(3)), but you cannot modify a string \"\"\"\n",
        "\n",
        "#3What are the main differences between lists and tuples in Python?\n",
        "\n",
        "\"\"\"Lists are mutable (can be modified), use square brackets [], and have more built-in methods.\n",
        "Tuples are immutable (cannot be modified), use parentheses (), and are generally faster than lists.\"\"\"\n",
        "#4 Describe how dictionaries store data.\n",
        "\n",
        "\"\"\"Dictionaries store data as key-value pairs, where each unique key maps to a value.\n",
        "They use a hash table implementation which allows for fast O(1) average time complexity for lookups.\"\"\"\n",
        "\n",
        "#5  Why might you use a set instead of a list in Python?\n",
        "\"\"\"A set is an unordered collection of unique elements.\n",
        "Using a set is useful when you want to automatically eliminate duplicates and only keep distinct items.\n",
        "For example, converting a list to a set removes any repeated values.\n",
        "Moreover, sets are implemented with hash tables, so checking whether an element is in a set is much faster (average O(1) time) than checking membership in a list.\n",
        "In other words, sets are great when you need uniqueness and fast membership tests\"\"\"\n",
        "#6 What is a string in Python, and how is it different from a list?\n",
        "\n",
        "\"\"\"A string is an immutable sequence of Unicode characters.\n",
        "Unlike lists, strings cannot be modified after creation, and they have different methods specifically for text manipulation (like .upper(), .split())\"\"\"\n",
        "\n",
        "#7 How do tuples ensure data integrity in Python?\n",
        "\"\"\"Tuples are immutable, meaning once a tuple is created, its contents cannot be changed\n",
        ". This immutability protects the data inside the tuple from accidental modification, ensuring the data remains consistent (integrity) throughout the program.\n",
        "For example, if you use a tuple to store a set of values that should not change (like constants or coordinates), you can be sure they will stay the same.\n",
        "Because of this, tuples are often preferred when fixed data is needed or when they are used as keys in dictionaries\"\"\"\n",
        "\n",
        "#8 . What is a hash table, and how does it relate to dictionaries in Python?\n",
        "\"\"\"A hash table is a data structure that stores key-value pairs and uses a hash function on each key to compute an index where the value is stored.\n",
        "This allows very fast lookup, addition, and removal of items. In Python, the built-in dictionary is implemented using a hash table stackabuse.com\n",
        ". When you access dict[key], Python hashes the key and quickly finds the value. In fact, Python dictionaries are essentially hash tables under the hood, making dictionary operations generally very efficient\"\"\"\n",
        "\n",
        "#9  Can lists contain different data types in Python?\n",
        "\"\"\"Yes. Python lists are heterogeneous, meaning you can store objects of any type in the same list.\n",
        "For example, you could have my_list = [10, \"hello\", 3.14, True]. As one tutorial notes, “in a list you can store objects of any type.\n",
        "You can also mix objects of different types within the same list”\n",
        ". It’s common to use lists for collections of similar items, but Python imposes no type restriction on list elements\"\"\"\n",
        "\n",
        "#10 Explain why strings are immutable in Python.\n",
        "\"\"\"Strings are immutable for reasons of simplicity and efficiency. When a string is created, its memory can be fixed and optimized, and operations like hashing (for dictionary keys) become easier.\n",
        "The official Python documentation notes that treating strings as “elemental” values (like numbers) means they never change; this allows fixed allocation of memory and consistent behavior\n",
        "\n",
        ". In practice, if you need a different string, you create a new one rather than modifying the existing one. This design avoids surprises and helps performance (since immutable objects can be safely shared\"\"\"\n",
        "\n",
        "#11 What advantages do dictionaries offer over lists for certain tasks?\n",
        "\"\"\"Dictionaries let you look up values by key in constant time on average (O(1)), thanks to hashing, whereas searching for an item in a list takes linear time (O(n)) in the worst case\n",
        ". This makes dictionaries much faster when you need to find data by an identifier or key.\n",
        "Also, dictionaries naturally map one thing (the key) to another (the value), which is very convenient for many tasks (like counting occurrences or grouping data by names).\n",
        "In summary, for key-based lookup and associative relationships, dictionaries are often superior to lists.\"\"\"\n",
        "\n",
        "#12  Describe a scenario where using a tuple would be preferable over a list.\n",
        "\"\"\"Tuples are preferable when you have a fixed collection of items that should not change.\n",
        "For example, if a function needs to return multiple values (like a pair of coordinates or configuration settings), a tuple is ideal.\n",
        "This is because tuples being immutable protect the returned data from accidental modification.\n",
        "Tuples are also used as keys in dictionaries (lists cannot be used as keys)\n",
        ". As one explanation notes, tuples are “immutable, making them suitable for fixed… data”\n",
        "realpython.com\n",
        ". So, whenever you need a simple, constant record of items, choose a tuple.\"\"\"\n",
        "\n",
        "###13. How do sets handle duplicate values in Python?\n",
        "\"Sets automatically remove duplicate values when created. Adding a duplicate has no effect.\"\n",
        "\n",
        "#14. How does the \"in\" keyword work differently for lists and dictionaries?\n",
        "\"\"\"For lists: checks if value exists in list (O(n) operation)\n",
        "\n",
        "For dictionaries: checks if key exists in dictionary (O(1) operation)\"\"\"\n",
        "\n",
        "#15. Can you modify the elements of a tuple? Explain why or why not.\n",
        "\"No, tuples are immutable. You cannot change, add or remove elements after creation.\"\n",
        "\n",
        "\n",
        "\n",
        "\n",
        "\n",
        "\n",
        "#16. What is a nested dictionary, and give an example of its use case.\n",
        "\"A nested dictionary is a dictionary that contains other dictionaries.\"\n",
        "#example\n",
        "employees = {\n",
        "    'emp1': {'name': 'ajay', 'age': 32},\n",
        "    'emp2': {'name': 'bijay', 'age': 28}\n",
        "}\n",
        "\n",
        "\n",
        "#17. Describe the time complexity of accessing elements in a dictionary.\n",
        "\"Average case O(1) for get, set, and delete operations. Worst case O(n) but very rare with proper hash functions.\"\n",
        "\n",
        "#18. In what situations are lists preferred over dictionaries?\n",
        "\"\"\"When order matters\n",
        "\n",
        "When you need to store duplicates\n",
        "\n",
        "When you need sequential access\n",
        "\n",
        "When you don't have natural keys for your data\"\"\"\n",
        "\n",
        "#19. Why are dictionaries considered unordered, and how does that affect data retrieval?\n",
        "\"\"\"Prior to Python 3.7, dictionaries were unordered by definition. Now they maintain insertion order, but:\n",
        "\n",
        "You still can't access elements by position/index\n",
        "\n",
        "Order shouldn't be relied upon for program logic\n",
        "\n",
        "The primary access method is by key\"\"\"\n",
        "\n",
        "#20. Explain the difference between a list and a dictionary in terms of data retrieval.\n",
        "\"\"\" - Lists: retrieve by index (position), O(1) time\n",
        "\n",
        "- Dictionaries: retrieve by key, O(1) time on average\n",
        "\n",
        "- List indices are integers starting at 0, dictionary keys can be any immutable type\"\"\"\n",
        "\n",
        "\n",
        "\n",
        "\n",
        "\n"
      ]
    },
    {
      "cell_type": "code",
      "execution_count": null,
      "id": "e255ec54-b955-4808-b1da-72e8541fab62",
      "metadata": {
        "id": "e255ec54-b955-4808-b1da-72e8541fab62"
      },
      "outputs": [],
      "source": [
        "# practical question"
      ]
    },
    {
      "cell_type": "code",
      "execution_count": null,
      "id": "c3134875-9d83-4fbb-b451-a4ae51bc2650",
      "metadata": {
        "id": "c3134875-9d83-4fbb-b451-a4ae51bc2650",
        "outputId": "69ce45de-a2ac-44ee-92b8-b5f996eaa425"
      },
      "outputs": [
        {
          "name": "stdout",
          "output_type": "stream",
          "text": [
            "varun\n"
          ]
        }
      ],
      "source": [
        "#1. Create a string with your name and print it\n",
        "name = \"varun\"\n",
        "print(name)"
      ]
    },
    {
      "cell_type": "code",
      "execution_count": null,
      "id": "dbb67636-be36-41be-8880-d12188b4ff08",
      "metadata": {
        "id": "dbb67636-be36-41be-8880-d12188b4ff08",
        "outputId": "dcca2e88-a26d-4011-f2da-891c95f7ee67"
      },
      "outputs": [
        {
          "name": "stdout",
          "output_type": "stream",
          "text": [
            "11\n"
          ]
        }
      ],
      "source": [
        "#2 Find the length of the string \"Hello World\"\n",
        "\n",
        "print(len(\"Hello World\"))"
      ]
    },
    {
      "cell_type": "code",
      "execution_count": null,
      "id": "5865bfdd-c7e2-4cb6-9366-fd2f930f3172",
      "metadata": {
        "id": "5865bfdd-c7e2-4cb6-9366-fd2f930f3172",
        "outputId": "6cdf8b7a-4de8-4eb6-cba2-51a03392a8f8"
      },
      "outputs": [
        {
          "name": "stdout",
          "output_type": "stream",
          "text": [
            "Pyt\n"
          ]
        }
      ],
      "source": [
        "#3. Slice the first 3 characters from \"Python Programming\"\n",
        "s = \"Python Programming\"\n",
        "print(s[:3])"
      ]
    },
    {
      "cell_type": "code",
      "execution_count": null,
      "id": "1a22814c-cd86-449c-9ccd-9e7636b9b0a7",
      "metadata": {
        "id": "1a22814c-cd86-449c-9ccd-9e7636b9b0a7",
        "outputId": "df1f38d3-5c34-4dd0-f79a-a237315b174b"
      },
      "outputs": [
        {
          "data": {
            "text/plain": [
              "'HELLO'"
            ]
          },
          "execution_count": 12,
          "metadata": {},
          "output_type": "execute_result"
        }
      ],
      "source": [
        "#4. Convert \"hello\" to upper case\n",
        "\"hello\".upper()"
      ]
    },
    {
      "cell_type": "code",
      "execution_count": null,
      "id": "e2a217a6-61da-4b69-907a-9db8684c2d0d",
      "metadata": {
        "id": "e2a217a6-61da-4b69-907a-9db8684c2d0d",
        "outputId": "2a45b95d-918d-4621-a92e-424e2acc3aa8"
      },
      "outputs": [
        {
          "data": {
            "text/plain": [
              "'I like orange'"
            ]
          },
          "execution_count": 1,
          "metadata": {},
          "output_type": "execute_result"
        }
      ],
      "source": [
        "#5. Replace \"apple\" with \"orange\" in \"I like apple\"\n",
        "s = \"I like apple\"\n",
        "s.replace(\"apple\", \"orange\")"
      ]
    },
    {
      "cell_type": "code",
      "execution_count": null,
      "id": "9bf6bc9e-e2ae-4df3-afed-dbb792bfe5fe",
      "metadata": {
        "id": "9bf6bc9e-e2ae-4df3-afed-dbb792bfe5fe",
        "outputId": "b9c51384-7886-468d-ec76-9fe81a4bc76b"
      },
      "outputs": [
        {
          "name": "stdout",
          "output_type": "stream",
          "text": [
            "[1, 2, 3, 4, 5]\n"
          ]
        }
      ],
      "source": [
        "#6. Create a list with numbers 1 to 5 and print it\n",
        "numbers = [1, 2, 3, 4, 5]\n",
        "print(numbers)"
      ]
    },
    {
      "cell_type": "code",
      "execution_count": null,
      "id": "f34a4e6f-9381-4d52-b573-1ee9a2317ad4",
      "metadata": {
        "id": "f34a4e6f-9381-4d52-b573-1ee9a2317ad4",
        "outputId": "35a36a41-86d4-4e61-c5df-fbad163e7f65"
      },
      "outputs": [
        {
          "name": "stdout",
          "output_type": "stream",
          "text": [
            "[1, 2, 3, 4, 10]\n"
          ]
        }
      ],
      "source": [
        "#7. Append 10 to [1, 2, 3, 4]\n",
        "lst = [1, 2, 3, 4]\n",
        "lst.append(10)\n",
        "print(lst)"
      ]
    },
    {
      "cell_type": "code",
      "execution_count": null,
      "id": "f26d005a-0d0c-4a86-aad5-96dea73a9e64",
      "metadata": {
        "id": "f26d005a-0d0c-4a86-aad5-96dea73a9e64",
        "outputId": "1e2faf6d-ec92-4087-ecdb-06eb044b33b0"
      },
      "outputs": [
        {
          "name": "stdout",
          "output_type": "stream",
          "text": [
            "[1, 2, 4, 5]\n"
          ]
        }
      ],
      "source": [
        "#8 Remove 3 from [1, 2, 3, 4, 5]\n",
        "lst = [1, 2, 3, 4, 5]\n",
        "lst.remove(3)\n",
        "print(lst)"
      ]
    },
    {
      "cell_type": "code",
      "execution_count": null,
      "id": "33249b3d-1d9a-4c38-9ee1-e76f4d5be7ef",
      "metadata": {
        "id": "33249b3d-1d9a-4c38-9ee1-e76f4d5be7ef",
        "outputId": "ac4febe4-8632-4fad-9151-0a744d7f3daa"
      },
      "outputs": [
        {
          "name": "stdout",
          "output_type": "stream",
          "text": [
            "b\n"
          ]
        }
      ],
      "source": [
        "#9. Access the second element in ['a', 'b', 'c', 'd']\n",
        "lst = ['a', 'b', 'c', 'd']\n",
        "print(lst[1])"
      ]
    },
    {
      "cell_type": "code",
      "execution_count": null,
      "id": "402b233c-238c-48fe-8b96-a9a14a5d7b1a",
      "metadata": {
        "id": "402b233c-238c-48fe-8b96-a9a14a5d7b1a",
        "outputId": "cbd427f1-9db5-4a18-d752-fcc6a6ad1371"
      },
      "outputs": [
        {
          "name": "stdout",
          "output_type": "stream",
          "text": [
            "[50, 40, 30, 20, 10]\n"
          ]
        }
      ],
      "source": [
        "#10. Reverse [10, 20, 30, 40, 50]\n",
        "lst = [10, 20, 30, 40, 50]\n",
        "print(lst[::-1])"
      ]
    },
    {
      "cell_type": "code",
      "execution_count": null,
      "id": "114e26ef-4188-4fb8-9c61-b7dfb9f550ac",
      "metadata": {
        "id": "114e26ef-4188-4fb8-9c61-b7dfb9f550ac",
        "outputId": "ad309e46-4f61-4ad8-8e3d-1675fd5b8145"
      },
      "outputs": [
        {
          "name": "stdout",
          "output_type": "stream",
          "text": [
            "(100, 200, 300)\n"
          ]
        }
      ],
      "source": [
        "#11. Create a tuple with 100, 200, 300 and print it\n",
        "\n",
        "t = (100, 200, 300)\n",
        "print(t)"
      ]
    },
    {
      "cell_type": "code",
      "execution_count": null,
      "id": "a6d824e2-0e24-4d3a-965c-e139e5f2ae9e",
      "metadata": {
        "id": "a6d824e2-0e24-4d3a-965c-e139e5f2ae9e",
        "outputId": "a7d48437-8ca6-4289-8743-bdc7d1277905"
      },
      "outputs": [
        {
          "name": "stdout",
          "output_type": "stream",
          "text": [
            "blue\n"
          ]
        }
      ],
      "source": [
        "#12. Access the second-to-last element of ('red', 'green', 'blue', 'yellow')\n",
        "\n",
        "t = ('red', 'green', 'blue', 'yellow')\n",
        "print(t[-2])"
      ]
    },
    {
      "cell_type": "code",
      "execution_count": null,
      "id": "9d0484cc-5e1e-4064-b1a9-b23bf7fe284f",
      "metadata": {
        "id": "9d0484cc-5e1e-4064-b1a9-b23bf7fe284f",
        "outputId": "993f5889-7f1b-4afe-f4d5-1987040041b8"
      },
      "outputs": [
        {
          "data": {
            "text/plain": [
              "5"
            ]
          },
          "execution_count": 10,
          "metadata": {},
          "output_type": "execute_result"
        }
      ],
      "source": [
        "#13. Find the minimum number in (10, 20, 5, 15)\n",
        "\n",
        "t = (10, 20, 5, 15)\n",
        "min(t)"
      ]
    },
    {
      "cell_type": "code",
      "execution_count": null,
      "id": "952fdd1a-ee36-475f-83fb-3aa8b0c2b0aa",
      "metadata": {
        "id": "952fdd1a-ee36-475f-83fb-3aa8b0c2b0aa",
        "outputId": "08814b90-d0e7-46a2-a7e5-6fc64fd5eb69"
      },
      "outputs": [
        {
          "name": "stdout",
          "output_type": "stream",
          "text": [
            "1\n"
          ]
        }
      ],
      "source": [
        "#14. Find the index of \"cat\" in ('dog', 'cat', 'rabbit')\n",
        "\n",
        "t = ('dog', 'cat', 'rabbit')\n",
        "print(t.index('cat'))"
      ]
    },
    {
      "cell_type": "code",
      "execution_count": null,
      "id": "f334b4dd-9a0f-493e-a0d5-27af3050a69c",
      "metadata": {
        "id": "f334b4dd-9a0f-493e-a0d5-27af3050a69c",
        "outputId": "a6d3f54b-97fe-4266-8c43-16a80958ddd3"
      },
      "outputs": [
        {
          "data": {
            "text/plain": [
              "False"
            ]
          },
          "execution_count": 12,
          "metadata": {},
          "output_type": "execute_result"
        }
      ],
      "source": [
        "#15  Create a fruit tuple and check if \"kiwi\" is in it\n",
        "\n",
        "fruits = ('apple', 'banana', 'orange')\n",
        "'kiwi' in fruits\n"
      ]
    },
    {
      "cell_type": "code",
      "execution_count": null,
      "id": "1fe563b1-e93e-451f-a7a3-3f3b7ca915a2",
      "metadata": {
        "id": "1fe563b1-e93e-451f-a7a3-3f3b7ca915a2",
        "outputId": "fca4a7b6-bf37-4daf-a63f-625ec2f6f28c"
      },
      "outputs": [
        {
          "name": "stdout",
          "output_type": "stream",
          "text": [
            "{'a', 'c', 'b'}\n"
          ]
        }
      ],
      "source": [
        "#16 Create a set with 'a', 'b', 'c' and print it\n",
        "\n",
        "s = {'a', 'b', 'c'}\n",
        "print(s)"
      ]
    },
    {
      "cell_type": "code",
      "execution_count": null,
      "id": "bbdb0485-a594-4a04-a1d5-81a9f5e8521a",
      "metadata": {
        "id": "bbdb0485-a594-4a04-a1d5-81a9f5e8521a",
        "outputId": "59cceacc-b863-49a1-e80e-a5f8473b3253"
      },
      "outputs": [
        {
          "name": "stdout",
          "output_type": "stream",
          "text": [
            "set()\n"
          ]
        }
      ],
      "source": [
        "#17 Clear all elements from {1, 2, 3, 4, 5}\n",
        "\n",
        "s = {1, 2, 3, 4, 5}\n",
        "s.clear()\n",
        "print(s)"
      ]
    },
    {
      "cell_type": "code",
      "execution_count": null,
      "id": "c3fae0e4-5451-4f33-bdd2-285b08014412",
      "metadata": {
        "id": "c3fae0e4-5451-4f33-bdd2-285b08014412",
        "outputId": "41a355fd-876e-4332-dc93-dea36db3a98e"
      },
      "outputs": [
        {
          "name": "stdout",
          "output_type": "stream",
          "text": [
            "{1, 2, 3}\n"
          ]
        }
      ],
      "source": [
        "#18 Remove 4 from {1, 2, 3, 4}\n",
        "\n",
        "s = {1, 2, 3, 4}\n",
        "s.remove(4)\n",
        "print(s)"
      ]
    },
    {
      "cell_type": "code",
      "execution_count": null,
      "id": "ac848fae-a4f1-4cd4-b521-0e03139b3fc7",
      "metadata": {
        "id": "ac848fae-a4f1-4cd4-b521-0e03139b3fc7",
        "outputId": "dea83d34-180a-4fb1-a9e8-c1b117866f1d"
      },
      "outputs": [
        {
          "data": {
            "text/plain": [
              "{1, 2, 3, 4, 5}"
            ]
          },
          "execution_count": 17,
          "metadata": {},
          "output_type": "execute_result"
        }
      ],
      "source": [
        "#19  Find the union of {1, 2, 3} and {3, 4, 5}\n",
        "\n",
        "s1 = {1, 2, 3}\n",
        "s2 = {3, 4, 5}\n",
        "s1|s2"
      ]
    },
    {
      "cell_type": "code",
      "execution_count": null,
      "id": "8e75daf9-69d9-4d74-b3a2-2e4f6068815e",
      "metadata": {
        "id": "8e75daf9-69d9-4d74-b3a2-2e4f6068815e",
        "outputId": "ac6ea6ff-edec-4c0f-f186-55836fe9b1bb"
      },
      "outputs": [
        {
          "data": {
            "text/plain": [
              "{2, 3}"
            ]
          },
          "execution_count": 18,
          "metadata": {},
          "output_type": "execute_result"
        }
      ],
      "source": [
        "#20 Find the intersection of {1, 2, 3} and {2, 3, 4}\n",
        "\n",
        "s1 = {1, 2, 3}\n",
        "s2 = {2, 3, 4}\n",
        "s1&s2"
      ]
    },
    {
      "cell_type": "code",
      "execution_count": null,
      "id": "4f7005a8-dc16-4157-a753-24d3f0d08184",
      "metadata": {
        "id": "4f7005a8-dc16-4157-a753-24d3f0d08184",
        "outputId": "600d2700-59b0-42f3-adb5-3374af7ef487"
      },
      "outputs": [
        {
          "name": "stdout",
          "output_type": "stream",
          "text": [
            "{'name': 'varun', 'age': 24, 'city': 'New Delhi'}\n"
          ]
        }
      ],
      "source": [
        "#21 . Create a dictionary with \"name\", \"age\", \"city\" and print it\n",
        "person = {\"name\": \"varun\", \"age\": 24, \"city\": \"New Delhi\"}\n",
        "print(person)"
      ]
    },
    {
      "cell_type": "code",
      "execution_count": null,
      "id": "3040b63c-1609-40c6-bd33-4e22b61b9ffb",
      "metadata": {
        "id": "3040b63c-1609-40c6-bd33-4e22b61b9ffb",
        "outputId": "13f672e4-ce24-41e6-9faf-756debcb8646"
      },
      "outputs": [
        {
          "name": "stdout",
          "output_type": "stream",
          "text": [
            "{'name': 'John', 'age': '25', 'country': 'USA'}\n"
          ]
        }
      ],
      "source": [
        "#22 . Add \"country\": \"USA\" to {'name': 'John', 'age': '25'}\n",
        "\n",
        "person = {'name': 'John', 'age': '25'}\n",
        "person['country'] = 'USA'\n",
        "print(person)"
      ]
    },
    {
      "cell_type": "code",
      "execution_count": null,
      "id": "490f8da5-4749-4c9c-9829-60189e104981",
      "metadata": {
        "id": "490f8da5-4749-4c9c-9829-60189e104981",
        "outputId": "104c9ec8-9033-4404-b56e-a005b1c535e4"
      },
      "outputs": [
        {
          "data": {
            "text/plain": [
              "'Alice'"
            ]
          },
          "execution_count": 21,
          "metadata": {},
          "output_type": "execute_result"
        }
      ],
      "source": [
        "#23 Access the value for \"name\" in {'name': 'Alice', 'age': '30'}\n",
        "\n",
        "person = {'name': 'Alice', 'age': '30'}\n",
        "person['name']"
      ]
    },
    {
      "cell_type": "code",
      "execution_count": null,
      "id": "7837f899-815b-462f-a6de-23ca7abcf2a2",
      "metadata": {
        "id": "7837f899-815b-462f-a6de-23ca7abcf2a2",
        "outputId": "13a3cec0-9248-4c39-f15b-3405b68020e6"
      },
      "outputs": [
        {
          "name": "stdout",
          "output_type": "stream",
          "text": [
            "{'name': 'Bob', 'city': 'New York'}\n"
          ]
        }
      ],
      "source": [
        "#24 Remove \"age\" from {'name': 'Bob', 'age': '22', 'city': 'New York'}\n",
        "\n",
        "person = {'name': 'Bob', 'age': '22', 'city': 'New York'}\n",
        "del person['age']\n",
        "print(person)"
      ]
    },
    {
      "cell_type": "code",
      "execution_count": null,
      "id": "07d916d9-2ef9-4c07-971e-892872de1882",
      "metadata": {
        "id": "07d916d9-2ef9-4c07-971e-892872de1882",
        "outputId": "7deab0da-4be0-4f37-d44b-a574bf3ed9a0"
      },
      "outputs": [
        {
          "data": {
            "text/plain": [
              "True"
            ]
          },
          "execution_count": 23,
          "metadata": {},
          "output_type": "execute_result"
        }
      ],
      "source": [
        "#25  Check if \"city\" exists in {'name': 'Alice', 'city': 'Paris'}\n",
        "\n",
        "person = {'name': 'Alice', 'city': 'Paris'}\n",
        "'city' in person"
      ]
    },
    {
      "cell_type": "code",
      "execution_count": null,
      "id": "568d2d68-3997-42ae-b76b-9c9d1d8024ce",
      "metadata": {
        "id": "568d2d68-3997-42ae-b76b-9c9d1d8024ce",
        "outputId": "4bb735f7-e2bd-4215-dad5-0dedad24ab9f"
      },
      "outputs": [
        {
          "name": "stdout",
          "output_type": "stream",
          "text": [
            "[1, 2, 3] (4, 5, 6) {'a': 1, 'b': 2}\n"
          ]
        }
      ],
      "source": [
        "#26 Create a list, tuple, and dictionary, and print them\n",
        "\n",
        "my_list = [1, 2, 3]\n",
        "my_tuple = (4, 5, 6)\n",
        "my_dict = {'a': 1, 'b': 2}\n",
        "print(my_list, my_tuple, my_dict)"
      ]
    },
    {
      "cell_type": "code",
      "execution_count": null,
      "id": "71d8e613-fb78-466e-8978-ac7f26ecc0b8",
      "metadata": {
        "id": "71d8e613-fb78-466e-8978-ac7f26ecc0b8",
        "outputId": "289fbede-2d6d-4308-e5c2-084ae745cb81"
      },
      "outputs": [
        {
          "name": "stdout",
          "output_type": "stream",
          "text": [
            "[14, 18, 46, 65, 86]\n"
          ]
        }
      ],
      "source": [
        "#27 Create a list of 5 random numbers between 1-100, sort and print\n",
        "\n",
        "import random\n",
        "numbers = random.sample(range(1, 101), 5)\n",
        "numbers.sort()\n",
        "print(numbers)"
      ]
    },
    {
      "cell_type": "code",
      "execution_count": null,
      "id": "12959229-203b-463f-8686-0656e4e2ca61",
      "metadata": {
        "id": "12959229-203b-463f-8686-0656e4e2ca61",
        "outputId": "f88f67f1-0931-44ba-92d6-a430a3f2cd7a"
      },
      "outputs": [
        {
          "name": "stdout",
          "output_type": "stream",
          "text": [
            "cherry\n"
          ]
        }
      ],
      "source": [
        "#28 Create a list with strings and print the third index element\n",
        "\n",
        "lst = ['apple', 'banana', 'cherry', 'date']\n",
        "print(lst[2])"
      ]
    },
    {
      "cell_type": "code",
      "execution_count": null,
      "id": "fae462a5-b412-4a3f-b305-f551e4187790",
      "metadata": {
        "id": "fae462a5-b412-4a3f-b305-f551e4187790",
        "outputId": "19867335-23d9-4642-cec7-c5769c23bc45"
      },
      "outputs": [
        {
          "data": {
            "text/plain": [
              "{'a': 1, 'b': 2, 'c': 3, 'd': 4}"
            ]
          },
          "execution_count": 27,
          "metadata": {},
          "output_type": "execute_result"
        }
      ],
      "source": [
        "#29 Combine two dictionaries into one\n",
        "\n",
        "dict1 = {'a': 1, 'b': 2}\n",
        "dict2 = {'c': 3, 'd': 4}\n",
        "dict3 = {**dict1,**dict2}\n",
        "dict3"
      ]
    },
    {
      "cell_type": "code",
      "execution_count": null,
      "id": "e3a600cc-6cd9-413a-9ac5-0724f4d2ea58",
      "metadata": {
        "id": "e3a600cc-6cd9-413a-9ac5-0724f4d2ea58",
        "outputId": "9a19bfe3-5df4-4c03-df0b-24d54fbca9e8"
      },
      "outputs": [
        {
          "name": "stdout",
          "output_type": "stream",
          "text": [
            "{'a', 'c', 'b'}\n"
          ]
        }
      ],
      "source": [
        "#30 Convert a list of strings into a set\n",
        "\n",
        "lst = ['a', 'b', 'a', 'c']\n",
        "string_set = set(lst)\n",
        "print(string_set)\n"
      ]
    },
    {
      "cell_type": "code",
      "execution_count": null,
      "id": "dbe87b21-f66b-4244-9346-bd1c9a8cf41f",
      "metadata": {
        "id": "dbe87b21-f66b-4244-9346-bd1c9a8cf41f"
      },
      "outputs": [],
      "source": []
    }
  ],
  "metadata": {
    "kernelspec": {
      "display_name": "Python 3 (ipykernel)",
      "language": "python",
      "name": "python3"
    },
    "language_info": {
      "codemirror_mode": {
        "name": "ipython",
        "version": 3
      },
      "file_extension": ".py",
      "mimetype": "text/x-python",
      "name": "python",
      "nbconvert_exporter": "python",
      "pygments_lexer": "ipython3",
      "version": "3.13.2"
    },
    "colab": {
      "provenance": []
    }
  },
  "nbformat": 4,
  "nbformat_minor": 5
}